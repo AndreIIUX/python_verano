{
 "cells": [
  {
   "cell_type": "code",
   "execution_count": 4,
   "metadata": {},
   "outputs": [],
   "source": [
    "import pandas as pd\n",
    "import altair as alt\n",
    "import wbgapi as wb"
   ]
  },
  {
   "cell_type": "code",
   "execution_count": 3,
   "metadata": {},
   "outputs": [
    {
     "name": "stdout",
     "output_type": "stream",
     "text": [
      "Collecting wbgapi\n",
      "  Downloading wbgapi-1.0.7-py3-none-any.whl (35 kB)\n",
      "Requirement already satisfied: PyYAML in c:\\users\\andrea\\anaconda3\\lib\\site-packages (from wbgapi) (6.0)\n",
      "Collecting tabulate\n",
      "  Downloading tabulate-0.8.9-py3-none-any.whl (25 kB)\n",
      "Requirement already satisfied: requests in c:\\users\\andrea\\anaconda3\\lib\\site-packages (from wbgapi) (2.11.1)\n",
      "Installing collected packages: tabulate, wbgapi\n",
      "Successfully installed tabulate-0.8.9 wbgapi-1.0.7\n",
      "Note: you may need to restart the kernel to use updated packages.\n"
     ]
    }
   ],
   "source": [
    "#pip install wbgapi"
   ]
  },
  {
   "cell_type": "code",
   "execution_count": 5,
   "metadata": {},
   "outputs": [],
   "source": [
    "happy_all = pd.read_csv(\"https://raw.githubusercontent.com/ccsuehara/python_verano/main/Clase%206/data/world-happiness-report.csv\")\n",
    "happy_21 = pd.read_csv(\"https://raw.githubusercontent.com/ccsuehara/python_verano/main/Clase%206/data/world-happiness-report-2021.csv\")\n",
    "\n",
    "happy = pd.merge(happy_all[happy_all['year'] == 2019],\n",
    "                  happy_21[['Country name', \"Regional indicator\" ]],\n",
    "                  on = \"Country name\",\n",
    "                  how  = \"inner\",\n",
    "                 indicator = True)"
   ]
  },
  {
   "cell_type": "code",
   "execution_count": 14,
   "metadata": {},
   "outputs": [
    {
     "data": {
      "text/plain": [
       "ThemeRegistry.enable('mitema')"
      ]
     },
     "execution_count": 14,
     "metadata": {},
     "output_type": "execute_result"
    }
   ],
   "source": [
    "\n",
    "#alt.themes.enable('urbaninstitute')\n",
    "#latimes\n",
    "#ggplot2\n",
    "\n",
    "# Definir un tema, más sobre esto: \n",
    "#https://towardsdatascience.com/consistently-beautiful-visualizations-with-altair-themes-c7f9f889602\n",
    "def tema_graf():\n",
    "    font = \"Helvetica\"\n",
    "    labelFont = \"Garamond\"\n",
    "    sourceFont = \"Calibri\"\n",
    "    \n",
    "    return {\n",
    "        \"config\" : {\n",
    "             \"title\": {'font': font, \n",
    "                       'fontSize': 15,\n",
    "                       'fontWeight': 300,\n",
    "                       'offset':0,\n",
    "                       'anchor':'left'},\n",
    "             \"axis\": {\n",
    "                  \"labelFont\": font,\n",
    "                  \"titleFont\": font,\n",
    "                  \"domainColor\": \"gray\"\n",
    "             },\n",
    "             \"header\": {\n",
    "                  \"labelFont\": font,\n",
    "                  \"titleFont\": font\n",
    "             },\n",
    "             \"legend\": {\n",
    "                  \"labelFont\": labelFont,\n",
    "                  \"titleFont\": labelFont,\n",
    "                  \"symbolType\": 'circle',\n",
    "                  \"padding\": 1\n",
    "                  \n",
    "             }\n",
    "             ,\n",
    "             'background': '#d7dff4'             \n",
    "        }\n",
    "    }\n",
    "\n",
    "alt.themes.register('mitema', tema_graf)\n",
    "alt.themes.enable('mitema')"
   ]
  },
  {
   "cell_type": "code",
   "execution_count": 13,
   "metadata": {},
   "outputs": [
    {
     "data": {
      "text/html": [
       "\n",
       "<div id=\"altair-viz-387749a7b1014970a607fe58ba21f64e\"></div>\n",
       "<script type=\"text/javascript\">\n",
       "  var VEGA_DEBUG = (typeof VEGA_DEBUG == \"undefined\") ? {} : VEGA_DEBUG;\n",
       "  (function(spec, embedOpt){\n",
       "    let outputDiv = document.currentScript.previousElementSibling;\n",
       "    if (outputDiv.id !== \"altair-viz-387749a7b1014970a607fe58ba21f64e\") {\n",
       "      outputDiv = document.getElementById(\"altair-viz-387749a7b1014970a607fe58ba21f64e\");\n",
       "    }\n",
       "    const paths = {\n",
       "      \"vega\": \"https://cdn.jsdelivr.net/npm//vega@5?noext\",\n",
       "      \"vega-lib\": \"https://cdn.jsdelivr.net/npm//vega-lib?noext\",\n",
       "      \"vega-lite\": \"https://cdn.jsdelivr.net/npm//vega-lite@4.17.0?noext\",\n",
       "      \"vega-embed\": \"https://cdn.jsdelivr.net/npm//vega-embed@6?noext\",\n",
       "    };\n",
       "\n",
       "    function maybeLoadScript(lib, version) {\n",
       "      var key = `${lib.replace(\"-\", \"\")}_version`;\n",
       "      return (VEGA_DEBUG[key] == version) ?\n",
       "        Promise.resolve(paths[lib]) :\n",
       "        new Promise(function(resolve, reject) {\n",
       "          var s = document.createElement('script');\n",
       "          document.getElementsByTagName(\"head\")[0].appendChild(s);\n",
       "          s.async = true;\n",
       "          s.onload = () => {\n",
       "            VEGA_DEBUG[key] = version;\n",
       "            return resolve(paths[lib]);\n",
       "          };\n",
       "          s.onerror = () => reject(`Error loading script: ${paths[lib]}`);\n",
       "          s.src = paths[lib];\n",
       "        });\n",
       "    }\n",
       "\n",
       "    function showError(err) {\n",
       "      outputDiv.innerHTML = `<div class=\"error\" style=\"color:red;\">${err}</div>`;\n",
       "      throw err;\n",
       "    }\n",
       "\n",
       "    function displayChart(vegaEmbed) {\n",
       "      vegaEmbed(outputDiv, spec, embedOpt)\n",
       "        .catch(err => showError(`Javascript Error: ${err.message}<br>This usually means there's a typo in your chart specification. See the javascript console for the full traceback.`));\n",
       "    }\n",
       "\n",
       "    if(typeof define === \"function\" && define.amd) {\n",
       "      requirejs.config({paths});\n",
       "      require([\"vega-embed\"], displayChart, err => showError(`Error loading script: ${err.message}`));\n",
       "    } else {\n",
       "      maybeLoadScript(\"vega\", \"5\")\n",
       "        .then(() => maybeLoadScript(\"vega-lite\", \"4.17.0\"))\n",
       "        .then(() => maybeLoadScript(\"vega-embed\", \"6\"))\n",
       "        .catch(showError)\n",
       "        .then(() => displayChart(vegaEmbed));\n",
       "    }\n",
       "  })({\"config\": {\"title\": {\"font\": \"Helvetica\", \"fontSize\": 15, \"fontWeight\": 300, \"offset\": 0, \"anchor\": \"left\"}, \"axis\": {\"labelFont\": \"Helvetica\", \"titleFont\": \"Helvetica\", \"domainColor\": \"gray\"}, \"header\": {\"labelFont\": \"Helvetica\", \"titleFont\": \"Helvetica\"}, \"legend\": {\"labelFont\": \"Garamond\", \"titleFont\": \"Garamond\", \"symbolType\": \"circle\", \"padding\": 1}, \"background\": \"#e78ac3\"}, \"data\": {\"name\": \"data-a58a49b007c67ebc86ced82c6a4f46da\"}, \"mark\": \"point\", \"encoding\": {\"color\": {\"field\": \"Regional indicator\", \"type\": \"nominal\"}, \"size\": {\"field\": \"Generosity\", \"type\": \"quantitative\"}, \"x\": {\"field\": \"Life Ladder\", \"type\": \"quantitative\"}, \"y\": {\"field\": \"Log GDP per capita\", \"scale\": {}, \"type\": \"quantitative\"}}, \"height\": 500, \"selection\": {\"selector004\": {\"type\": \"interval\", \"bind\": \"scales\", \"encodings\": [\"x\", \"y\"]}}, \"title\": {\"text\": [\"Esto parece un gr\\u00e1fico inspirado en Rosling\"], \"subtitle\": [\"Es un homenaje\", \"Fuente: Happiness Report\"], \"color\": \"Black\", \"subtitleColor\": \"Red\"}, \"width\": 800, \"$schema\": \"https://vega.github.io/schema/vega-lite/v4.17.0.json\", \"datasets\": {\"data-a58a49b007c67ebc86ced82c6a4f46da\": [{\"Country name\": \"Afghanistan\", \"year\": 2019, \"Life Ladder\": 2.375, \"Log GDP per capita\": 7.697, \"Social support\": 0.42, \"Healthy life expectancy at birth\": 52.4, \"Freedom to make life choices\": 0.394, \"Generosity\": -0.108, \"Perceptions of corruption\": 0.924, \"Positive affect\": 0.351, \"Negative affect\": 0.502, \"Regional indicator\": \"South Asia\", \"_merge\": \"both\"}, {\"Country name\": \"Albania\", \"year\": 2019, \"Life Ladder\": 4.995, \"Log GDP per capita\": 9.544, \"Social support\": 0.686, \"Healthy life expectancy at birth\": 69.0, \"Freedom to make life choices\": 0.777, \"Generosity\": -0.099, \"Perceptions of corruption\": 0.914, \"Positive affect\": 0.681, \"Negative affect\": 0.274, \"Regional indicator\": \"Central and Eastern Europe\", \"_merge\": \"both\"}, {\"Country name\": \"Algeria\", \"year\": 2019, \"Life Ladder\": 4.745, \"Log GDP per capita\": 9.337, \"Social support\": 0.803, \"Healthy life expectancy at birth\": 66.1, \"Freedom to make life choices\": 0.385, \"Generosity\": 0.005, \"Perceptions of corruption\": 0.741, \"Positive affect\": 0.585, \"Negative affect\": 0.215, \"Regional indicator\": \"Middle East and North Africa\", \"_merge\": \"both\"}, {\"Country name\": \"Argentina\", \"year\": 2019, \"Life Ladder\": 6.086, \"Log GDP per capita\": 10.0, \"Social support\": 0.896, \"Healthy life expectancy at birth\": 69.0, \"Freedom to make life choices\": 0.817, \"Generosity\": -0.211, \"Perceptions of corruption\": 0.83, \"Positive affect\": 0.826, \"Negative affect\": 0.319, \"Regional indicator\": \"Latin America and Caribbean\", \"_merge\": \"both\"}, {\"Country name\": \"Armenia\", \"year\": 2019, \"Life Ladder\": 5.488, \"Log GDP per capita\": 9.522, \"Social support\": 0.782, \"Healthy life expectancy at birth\": 67.2, \"Freedom to make life choices\": 0.844, \"Generosity\": -0.172, \"Perceptions of corruption\": 0.583, \"Positive affect\": 0.598, \"Negative affect\": 0.43, \"Regional indicator\": \"Commonwealth of Independent States\", \"_merge\": \"both\"}, {\"Country name\": \"Australia\", \"year\": 2019, \"Life Ladder\": 7.234, \"Log GDP per capita\": 10.815, \"Social support\": 0.943, \"Healthy life expectancy at birth\": 73.9, \"Freedom to make life choices\": 0.918, \"Generosity\": 0.121, \"Perceptions of corruption\": 0.43, \"Positive affect\": 0.77, \"Negative affect\": 0.202, \"Regional indicator\": \"North America and ANZ\", \"_merge\": \"both\"}, {\"Country name\": \"Austria\", \"year\": 2019, \"Life Ladder\": 7.195, \"Log GDP per capita\": 10.939, \"Social support\": 0.964, \"Healthy life expectancy at birth\": 73.3, \"Freedom to make life choices\": 0.903, \"Generosity\": 0.06, \"Perceptions of corruption\": 0.457, \"Positive affect\": 0.774, \"Negative affect\": 0.205, \"Regional indicator\": \"Western Europe\", \"_merge\": \"both\"}, {\"Country name\": \"Azerbaijan\", \"year\": 2019, \"Life Ladder\": 5.173, \"Log GDP per capita\": 9.575, \"Social support\": 0.887, \"Healthy life expectancy at birth\": 65.8, \"Freedom to make life choices\": 0.854, \"Generosity\": -0.214, \"Perceptions of corruption\": 0.457, \"Positive affect\": 0.643, \"Negative affect\": 0.164, \"Regional indicator\": \"Commonwealth of Independent States\", \"_merge\": \"both\"}, {\"Country name\": \"Bahrain\", \"year\": 2019, \"Life Ladder\": 7.098, \"Log GDP per capita\": 10.715, \"Social support\": 0.878, \"Healthy life expectancy at birth\": 69.3, \"Freedom to make life choices\": 0.907, \"Generosity\": 0.048, \"Perceptions of corruption\": null, \"Positive affect\": 0.762, \"Negative affect\": 0.317, \"Regional indicator\": \"Middle East and North Africa\", \"_merge\": \"both\"}, {\"Country name\": \"Bangladesh\", \"year\": 2019, \"Life Ladder\": 5.114, \"Log GDP per capita\": 8.467, \"Social support\": 0.673, \"Healthy life expectancy at birth\": 64.8, \"Freedom to make life choices\": 0.902, \"Generosity\": -0.051, \"Perceptions of corruption\": 0.656, \"Positive affect\": 0.537, \"Negative affect\": 0.369, \"Regional indicator\": \"South Asia\", \"_merge\": \"both\"}, {\"Country name\": \"Belarus\", \"year\": 2019, \"Life Ladder\": 5.821, \"Log GDP per capita\": 9.86, \"Social support\": 0.917, \"Healthy life expectancy at birth\": 66.4, \"Freedom to make life choices\": 0.657, \"Generosity\": -0.186, \"Perceptions of corruption\": 0.546, \"Positive affect\": 0.591, \"Negative affect\": 0.19, \"Regional indicator\": \"Commonwealth of Independent States\", \"_merge\": \"both\"}, {\"Country name\": \"Belgium\", \"year\": 2019, \"Life Ladder\": 6.772, \"Log GDP per capita\": 10.853, \"Social support\": 0.884, \"Healthy life expectancy at birth\": 72.2, \"Freedom to make life choices\": 0.776, \"Generosity\": -0.172, \"Perceptions of corruption\": 0.672, \"Positive affect\": 0.733, \"Negative affect\": 0.244, \"Regional indicator\": \"Western Europe\", \"_merge\": \"both\"}, {\"Country name\": \"Benin\", \"year\": 2019, \"Life Ladder\": 4.976, \"Log GDP per capita\": 8.098, \"Social support\": 0.442, \"Healthy life expectancy at birth\": 54.7, \"Freedom to make life choices\": 0.77, \"Generosity\": -0.016, \"Perceptions of corruption\": 0.698, \"Positive affect\": 0.659, \"Negative affect\": 0.441, \"Regional indicator\": \"Sub-Saharan Africa\", \"_merge\": \"both\"}, {\"Country name\": \"Bolivia\", \"year\": 2019, \"Life Ladder\": 5.674, \"Log GDP per capita\": 9.074, \"Social support\": 0.784, \"Healthy life expectancy at birth\": 63.9, \"Freedom to make life choices\": 0.881, \"Generosity\": -0.086, \"Perceptions of corruption\": 0.857, \"Positive affect\": 0.751, \"Negative affect\": 0.419, \"Regional indicator\": \"Latin America and Caribbean\", \"_merge\": \"both\"}, {\"Country name\": \"Bosnia and Herzegovina\", \"year\": 2019, \"Life Ladder\": 6.016, \"Log GDP per capita\": 9.609, \"Social support\": 0.873, \"Healthy life expectancy at birth\": 68.1, \"Freedom to make life choices\": 0.722, \"Generosity\": 0.079, \"Perceptions of corruption\": 0.963, \"Positive affect\": 0.633, \"Negative affect\": 0.238, \"Regional indicator\": \"Central and Eastern Europe\", \"_merge\": \"both\"}, {\"Country name\": \"Botswana\", \"year\": 2019, \"Life Ladder\": 3.471, \"Log GDP per capita\": 9.785, \"Social support\": 0.774, \"Healthy life expectancy at birth\": 59.6, \"Freedom to make life choices\": 0.833, \"Generosity\": -0.239, \"Perceptions of corruption\": 0.792, \"Positive affect\": 0.712, \"Negative affect\": 0.273, \"Regional indicator\": \"Sub-Saharan Africa\", \"_merge\": \"both\"}, {\"Country name\": \"Brazil\", \"year\": 2019, \"Life Ladder\": 6.451, \"Log GDP per capita\": 9.592, \"Social support\": 0.899, \"Healthy life expectancy at birth\": 66.6, \"Freedom to make life choices\": 0.83, \"Generosity\": -0.062, \"Perceptions of corruption\": 0.762, \"Positive affect\": 0.761, \"Negative affect\": 0.337, \"Regional indicator\": \"Latin America and Caribbean\", \"_merge\": \"both\"}, {\"Country name\": \"Bulgaria\", \"year\": 2019, \"Life Ladder\": 5.108, \"Log GDP per capita\": 10.047, \"Social support\": 0.948, \"Healthy life expectancy at birth\": 67.0, \"Freedom to make life choices\": 0.822, \"Generosity\": -0.109, \"Perceptions of corruption\": 0.943, \"Positive affect\": 0.663, \"Negative affect\": 0.2, \"Regional indicator\": \"Central and Eastern Europe\", \"_merge\": \"both\"}, {\"Country name\": \"Burkina Faso\", \"year\": 2019, \"Life Ladder\": 4.741, \"Log GDP per capita\": 7.691, \"Social support\": 0.683, \"Healthy life expectancy at birth\": 54.4, \"Freedom to make life choices\": 0.678, \"Generosity\": -0.004, \"Perceptions of corruption\": 0.729, \"Positive affect\": 0.691, \"Negative affect\": 0.365, \"Regional indicator\": \"Sub-Saharan Africa\", \"_merge\": \"both\"}, {\"Country name\": \"Cambodia\", \"year\": 2019, \"Life Ladder\": 4.998, \"Log GDP per capita\": 8.387, \"Social support\": 0.759, \"Healthy life expectancy at birth\": 62.0, \"Freedom to make life choices\": 0.957, \"Generosity\": 0.013, \"Perceptions of corruption\": 0.828, \"Positive affect\": 0.844, \"Negative affect\": 0.39, \"Regional indicator\": \"Southeast Asia\", \"_merge\": \"both\"}, {\"Country name\": \"Cameroon\", \"year\": 2019, \"Life Ladder\": 4.937, \"Log GDP per capita\": 8.203, \"Social support\": 0.711, \"Healthy life expectancy at birth\": 53.5, \"Freedom to make life choices\": 0.712, \"Generosity\": -0.008, \"Perceptions of corruption\": 0.817, \"Positive affect\": 0.629, \"Negative affect\": 0.326, \"Regional indicator\": \"Sub-Saharan Africa\", \"_merge\": \"both\"}, {\"Country name\": \"Canada\", \"year\": 2019, \"Life Ladder\": 7.109, \"Log GDP per capita\": 10.8, \"Social support\": 0.925, \"Healthy life expectancy at birth\": 73.8, \"Freedom to make life choices\": 0.912, \"Generosity\": 0.112, \"Perceptions of corruption\": 0.436, \"Positive affect\": 0.822, \"Negative affect\": 0.285, \"Regional indicator\": \"North America and ANZ\", \"_merge\": \"both\"}, {\"Country name\": \"Chad\", \"year\": 2019, \"Life Ladder\": 4.251, \"Log GDP per capita\": 7.365, \"Social support\": 0.64, \"Healthy life expectancy at birth\": 48.7, \"Freedom to make life choices\": 0.537, \"Generosity\": 0.055, \"Perceptions of corruption\": 0.832, \"Positive affect\": 0.587, \"Negative affect\": 0.46, \"Regional indicator\": \"Sub-Saharan Africa\", \"_merge\": \"both\"}, {\"Country name\": \"Chile\", \"year\": 2019, \"Life Ladder\": 5.942, \"Log GDP per capita\": 10.095, \"Social support\": 0.869, \"Healthy life expectancy at birth\": 70.0, \"Freedom to make life choices\": 0.659, \"Generosity\": -0.103, \"Perceptions of corruption\": 0.86, \"Positive affect\": 0.809, \"Negative affect\": 0.337, \"Regional indicator\": \"Latin America and Caribbean\", \"_merge\": \"both\"}, {\"Country name\": \"China\", \"year\": 2019, \"Life Ladder\": 5.144, \"Log GDP per capita\": 9.688, \"Social support\": 0.822, \"Healthy life expectancy at birth\": 69.6, \"Freedom to make life choices\": 0.927, \"Generosity\": -0.173, \"Perceptions of corruption\": null, \"Positive affect\": 0.891, \"Negative affect\": 0.147, \"Regional indicator\": \"East Asia\", \"_merge\": \"both\"}, {\"Country name\": \"Colombia\", \"year\": 2019, \"Life Ladder\": 6.35, \"Log GDP per capita\": 9.598, \"Social support\": 0.873, \"Healthy life expectancy at birth\": 68.0, \"Freedom to make life choices\": 0.822, \"Generosity\": -0.172, \"Perceptions of corruption\": 0.854, \"Positive affect\": 0.822, \"Negative affect\": 0.322, \"Regional indicator\": \"Latin America and Caribbean\", \"_merge\": \"both\"}, {\"Country name\": \"Comoros\", \"year\": 2019, \"Life Ladder\": 4.609, \"Log GDP per capita\": 8.033, \"Social support\": 0.632, \"Healthy life expectancy at birth\": 57.5, \"Freedom to make life choices\": 0.538, \"Generosity\": 0.077, \"Perceptions of corruption\": 0.762, \"Positive affect\": 0.736, \"Negative affect\": 0.336, \"Regional indicator\": \"Sub-Saharan Africa\", \"_merge\": \"both\"}, {\"Country name\": \"Congo (Brazzaville)\", \"year\": 2019, \"Life Ladder\": 5.213, \"Log GDP per capita\": 8.101, \"Social support\": 0.625, \"Healthy life expectancy at birth\": 58.5, \"Freedom to make life choices\": 0.686, \"Generosity\": -0.046, \"Perceptions of corruption\": 0.741, \"Positive affect\": 0.645, \"Negative affect\": 0.405, \"Regional indicator\": \"Sub-Saharan Africa\", \"_merge\": \"both\"}, {\"Country name\": \"Costa Rica\", \"year\": 2019, \"Life Ladder\": 6.998, \"Log GDP per capita\": 9.885, \"Social support\": 0.906, \"Healthy life expectancy at birth\": 71.5, \"Freedom to make life choices\": 0.927, \"Generosity\": -0.146, \"Perceptions of corruption\": 0.836, \"Positive affect\": 0.848, \"Negative affect\": 0.303, \"Regional indicator\": \"Latin America and Caribbean\", \"_merge\": \"both\"}, {\"Country name\": \"Croatia\", \"year\": 2019, \"Life Ladder\": 5.626, \"Log GDP per capita\": 10.258, \"Social support\": 0.936, \"Healthy life expectancy at birth\": 70.8, \"Freedom to make life choices\": 0.739, \"Generosity\": -0.137, \"Perceptions of corruption\": 0.932, \"Positive affect\": 0.551, \"Negative affect\": 0.269, \"Regional indicator\": \"Central and Eastern Europe\", \"_merge\": \"both\"}, {\"Country name\": \"Cyprus\", \"year\": 2019, \"Life Ladder\": 6.137, \"Log GDP per capita\": 10.585, \"Social support\": 0.776, \"Healthy life expectancy at birth\": 73.9, \"Freedom to make life choices\": 0.74, \"Generosity\": -0.008, \"Perceptions of corruption\": 0.865, \"Positive affect\": 0.763, \"Negative affect\": 0.29, \"Regional indicator\": \"Western Europe\", \"_merge\": \"both\"}, {\"Country name\": \"Denmark\", \"year\": 2019, \"Life Ladder\": 7.693, \"Log GDP per capita\": 10.954, \"Social support\": 0.958, \"Healthy life expectancy at birth\": 72.7, \"Freedom to make life choices\": 0.963, \"Generosity\": 0.02, \"Perceptions of corruption\": 0.174, \"Positive affect\": 0.862, \"Negative affect\": 0.181, \"Regional indicator\": \"Western Europe\", \"_merge\": \"both\"}, {\"Country name\": \"Dominican Republic\", \"year\": 2019, \"Life Ladder\": 6.004, \"Log GDP per capita\": 9.821, \"Social support\": 0.884, \"Healthy life expectancy at birth\": 66.1, \"Freedom to make life choices\": 0.877, \"Generosity\": -0.123, \"Perceptions of corruption\": 0.746, \"Positive affect\": 0.784, \"Negative affect\": 0.264, \"Regional indicator\": \"Latin America and Caribbean\", \"_merge\": \"both\"}, {\"Country name\": \"Ecuador\", \"year\": 2019, \"Life Ladder\": 5.809, \"Log GDP per capita\": 9.339, \"Social support\": 0.808, \"Healthy life expectancy at birth\": 68.8, \"Freedom to make life choices\": 0.83, \"Generosity\": -0.115, \"Perceptions of corruption\": 0.839, \"Positive affect\": 0.811, \"Negative affect\": 0.374, \"Regional indicator\": \"Latin America and Caribbean\", \"_merge\": \"both\"}, {\"Country name\": \"Egypt\", \"year\": 2019, \"Life Ladder\": 4.328, \"Log GDP per capita\": 9.373, \"Social support\": 0.772, \"Healthy life expectancy at birth\": 62.0, \"Freedom to make life choices\": 0.774, \"Generosity\": -0.199, \"Perceptions of corruption\": null, \"Positive affect\": 0.517, \"Negative affect\": 0.313, \"Regional indicator\": \"Middle East and North Africa\", \"_merge\": \"both\"}, {\"Country name\": \"El Salvador\", \"year\": 2019, \"Life Ladder\": 6.455, \"Log GDP per capita\": 9.08, \"Social support\": 0.764, \"Healthy life expectancy at birth\": 66.4, \"Freedom to make life choices\": 0.877, \"Generosity\": -0.109, \"Perceptions of corruption\": 0.682, \"Positive affect\": 0.871, \"Negative affect\": 0.271, \"Regional indicator\": \"Latin America and Caribbean\", \"_merge\": \"both\"}, {\"Country name\": \"Estonia\", \"year\": 2019, \"Life Ladder\": 6.035, \"Log GDP per capita\": 10.511, \"Social support\": 0.934, \"Healthy life expectancy at birth\": 68.8, \"Freedom to make life choices\": 0.887, \"Generosity\": -0.096, \"Perceptions of corruption\": 0.576, \"Positive affect\": 0.804, \"Negative affect\": 0.156, \"Regional indicator\": \"Central and Eastern Europe\", \"_merge\": \"both\"}, {\"Country name\": \"Ethiopia\", \"year\": 2019, \"Life Ladder\": 4.1, \"Log GDP per capita\": 7.705, \"Social support\": 0.748, \"Healthy life expectancy at birth\": 59.0, \"Freedom to make life choices\": 0.754, \"Generosity\": 0.053, \"Perceptions of corruption\": 0.732, \"Positive affect\": 0.631, \"Negative affect\": 0.283, \"Regional indicator\": \"Sub-Saharan Africa\", \"_merge\": \"both\"}, {\"Country name\": \"Finland\", \"year\": 2019, \"Life Ladder\": 7.78, \"Log GDP per capita\": 10.792, \"Social support\": 0.937, \"Healthy life expectancy at birth\": 72.0, \"Freedom to make life choices\": 0.948, \"Generosity\": -0.052, \"Perceptions of corruption\": 0.195, \"Positive affect\": 0.755, \"Negative affect\": 0.181, \"Regional indicator\": \"Western Europe\", \"_merge\": \"both\"}, {\"Country name\": \"France\", \"year\": 2019, \"Life Ladder\": 6.69, \"Log GDP per capita\": 10.74, \"Social support\": 0.958, \"Healthy life expectancy at birth\": 74.0, \"Freedom to make life choices\": 0.827, \"Generosity\": -0.133, \"Perceptions of corruption\": 0.568, \"Positive affect\": 0.735, \"Negative affect\": 0.25, \"Regional indicator\": \"Western Europe\", \"_merge\": \"both\"}, {\"Country name\": \"Gabon\", \"year\": 2019, \"Life Ladder\": 4.914, \"Log GDP per capita\": 9.607, \"Social support\": 0.763, \"Healthy life expectancy at birth\": 60.2, \"Freedom to make life choices\": 0.736, \"Generosity\": -0.203, \"Perceptions of corruption\": 0.846, \"Positive affect\": 0.693, \"Negative affect\": 0.413, \"Regional indicator\": \"Sub-Saharan Africa\", \"_merge\": \"both\"}, {\"Country name\": \"Gambia\", \"year\": 2019, \"Life Ladder\": 5.164, \"Log GDP per capita\": 7.699, \"Social support\": 0.694, \"Healthy life expectancy at birth\": 55.3, \"Freedom to make life choices\": 0.677, \"Generosity\": 0.41, \"Perceptions of corruption\": 0.798, \"Positive affect\": 0.773, \"Negative affect\": 0.401, \"Regional indicator\": \"Sub-Saharan Africa\", \"_merge\": \"both\"}, {\"Country name\": \"Georgia\", \"year\": 2019, \"Life Ladder\": 4.892, \"Log GDP per capita\": 9.617, \"Social support\": 0.675, \"Healthy life expectancy at birth\": 64.3, \"Freedom to make life choices\": 0.811, \"Generosity\": -0.26, \"Perceptions of corruption\": 0.647, \"Positive affect\": 0.604, \"Negative affect\": 0.244, \"Regional indicator\": \"Commonwealth of Independent States\", \"_merge\": \"both\"}, {\"Country name\": \"Germany\", \"year\": 2019, \"Life Ladder\": 7.035, \"Log GDP per capita\": 10.893, \"Social support\": 0.886, \"Healthy life expectancy at birth\": 72.5, \"Freedom to make life choices\": 0.885, \"Generosity\": 0.057, \"Perceptions of corruption\": 0.462, \"Positive affect\": 0.751, \"Negative affect\": 0.226, \"Regional indicator\": \"Western Europe\", \"_merge\": \"both\"}, {\"Country name\": \"Ghana\", \"year\": 2019, \"Life Ladder\": 4.967, \"Log GDP per capita\": 8.596, \"Social support\": 0.746, \"Healthy life expectancy at birth\": 57.6, \"Freedom to make life choices\": 0.787, \"Generosity\": 0.116, \"Perceptions of corruption\": 0.857, \"Positive affect\": 0.682, \"Negative affect\": 0.27, \"Regional indicator\": \"Sub-Saharan Africa\", \"_merge\": \"both\"}, {\"Country name\": \"Greece\", \"year\": 2019, \"Life Ladder\": 5.952, \"Log GDP per capita\": 10.319, \"Social support\": 0.891, \"Healthy life expectancy at birth\": 72.6, \"Freedom to make life choices\": 0.614, \"Generosity\": -0.289, \"Perceptions of corruption\": 0.848, \"Positive affect\": 0.668, \"Negative affect\": 0.236, \"Regional indicator\": \"Western Europe\", \"_merge\": \"both\"}, {\"Country name\": \"Guatemala\", \"year\": 2019, \"Life Ladder\": 6.262, \"Log GDP per capita\": 9.064, \"Social support\": 0.774, \"Healthy life expectancy at birth\": 65.1, \"Freedom to make life choices\": 0.901, \"Generosity\": -0.062, \"Perceptions of corruption\": 0.773, \"Positive affect\": 0.859, \"Negative affect\": 0.311, \"Regional indicator\": \"Latin America and Caribbean\", \"_merge\": \"both\"}, {\"Country name\": \"Guinea\", \"year\": 2019, \"Life Ladder\": 4.768, \"Log GDP per capita\": 7.849, \"Social support\": 0.655, \"Healthy life expectancy at birth\": 55.5, \"Freedom to make life choices\": 0.691, \"Generosity\": 0.097, \"Perceptions of corruption\": 0.756, \"Positive affect\": 0.685, \"Negative affect\": 0.473, \"Regional indicator\": \"Sub-Saharan Africa\", \"_merge\": \"both\"}, {\"Country name\": \"Honduras\", \"year\": 2019, \"Life Ladder\": 5.93, \"Log GDP per capita\": 8.653, \"Social support\": 0.797, \"Healthy life expectancy at birth\": 67.4, \"Freedom to make life choices\": 0.846, \"Generosity\": 0.063, \"Perceptions of corruption\": 0.815, \"Positive affect\": 0.85, \"Negative affect\": 0.279, \"Regional indicator\": \"Latin America and Caribbean\", \"_merge\": \"both\"}, {\"Country name\": \"Hong Kong S.A.R. of China\", \"year\": 2019, \"Life Ladder\": 5.659, \"Log GDP per capita\": 11.0, \"Social support\": 0.856, \"Healthy life expectancy at birth\": null, \"Freedom to make life choices\": 0.727, \"Generosity\": 0.067, \"Perceptions of corruption\": 0.432, \"Positive affect\": 0.599, \"Negative affect\": 0.358, \"Regional indicator\": \"East Asia\", \"_merge\": \"both\"}, {\"Country name\": \"Hungary\", \"year\": 2019, \"Life Ladder\": 6.0, \"Log GDP per capita\": 10.393, \"Social support\": 0.947, \"Healthy life expectancy at birth\": 68.0, \"Freedom to make life choices\": 0.798, \"Generosity\": -0.195, \"Perceptions of corruption\": 0.884, \"Positive affect\": 0.743, \"Negative affect\": 0.18, \"Regional indicator\": \"Central and Eastern Europe\", \"_merge\": \"both\"}, {\"Country name\": \"Iceland\", \"year\": 2019, \"Life Ladder\": 7.533, \"Log GDP per capita\": 10.931, \"Social support\": 0.982, \"Healthy life expectancy at birth\": 73.0, \"Freedom to make life choices\": 0.959, \"Generosity\": null, \"Perceptions of corruption\": 0.699, \"Positive affect\": 0.836, \"Negative affect\": 0.178, \"Regional indicator\": \"Western Europe\", \"_merge\": \"both\"}, {\"Country name\": \"India\", \"year\": 2019, \"Life Ladder\": 3.249, \"Log GDP per capita\": 8.818, \"Social support\": 0.561, \"Healthy life expectancy at birth\": 60.5, \"Freedom to make life choices\": 0.876, \"Generosity\": 0.112, \"Perceptions of corruption\": 0.752, \"Positive affect\": 0.648, \"Negative affect\": 0.466, \"Regional indicator\": \"South Asia\", \"_merge\": \"both\"}, {\"Country name\": \"Indonesia\", \"year\": 2019, \"Life Ladder\": 5.347, \"Log GDP per capita\": 9.377, \"Social support\": 0.802, \"Healthy life expectancy at birth\": 62.3, \"Freedom to make life choices\": 0.866, \"Generosity\": 0.555, \"Perceptions of corruption\": 0.861, \"Positive affect\": 0.877, \"Negative affect\": 0.302, \"Regional indicator\": \"Southeast Asia\", \"_merge\": \"both\"}, {\"Country name\": \"Iran\", \"year\": 2019, \"Life Ladder\": 5.006, \"Log GDP per capita\": null, \"Social support\": 0.698, \"Healthy life expectancy at birth\": 66.3, \"Freedom to make life choices\": 0.623, \"Generosity\": null, \"Perceptions of corruption\": 0.728, \"Positive affect\": 0.6, \"Negative affect\": 0.449, \"Regional indicator\": \"Middle East and North Africa\", \"_merge\": \"both\"}, {\"Country name\": \"Ireland\", \"year\": 2019, \"Life Ladder\": 7.255, \"Log GDP per capita\": 11.371, \"Social support\": 0.944, \"Healthy life expectancy at birth\": 72.4, \"Freedom to make life choices\": 0.892, \"Generosity\": 0.074, \"Perceptions of corruption\": 0.373, \"Positive affect\": 0.807, \"Negative affect\": 0.223, \"Regional indicator\": \"Western Europe\", \"_merge\": \"both\"}, {\"Country name\": \"Israel\", \"year\": 2019, \"Life Ladder\": 7.332, \"Log GDP per capita\": 10.601, \"Social support\": 0.946, \"Healthy life expectancy at birth\": 73.5, \"Freedom to make life choices\": 0.834, \"Generosity\": 0.085, \"Perceptions of corruption\": 0.743, \"Positive affect\": 0.635, \"Negative affect\": 0.266, \"Regional indicator\": \"Middle East and North Africa\", \"_merge\": \"both\"}, {\"Country name\": \"Italy\", \"year\": 2019, \"Life Ladder\": 6.445, \"Log GDP per capita\": 10.655, \"Social support\": 0.838, \"Healthy life expectancy at birth\": 73.8, \"Freedom to make life choices\": 0.709, \"Generosity\": -0.082, \"Perceptions of corruption\": 0.866, \"Positive affect\": 0.631, \"Negative affect\": 0.328, \"Regional indicator\": \"Western Europe\", \"_merge\": \"both\"}, {\"Country name\": \"Ivory Coast\", \"year\": 2019, \"Life Ladder\": 5.392, \"Log GDP per capita\": 8.564, \"Social support\": 0.679, \"Healthy life expectancy at birth\": 50.1, \"Freedom to make life choices\": 0.736, \"Generosity\": -0.017, \"Perceptions of corruption\": 0.799, \"Positive affect\": 0.674, \"Negative affect\": 0.425, \"Regional indicator\": \"Sub-Saharan Africa\", \"_merge\": \"both\"}, {\"Country name\": \"Jamaica\", \"year\": 2019, \"Life Ladder\": 6.309, \"Log GDP per capita\": 9.186, \"Social support\": 0.878, \"Healthy life expectancy at birth\": 67.5, \"Freedom to make life choices\": 0.891, \"Generosity\": -0.137, \"Perceptions of corruption\": 0.885, \"Positive affect\": 0.752, \"Negative affect\": 0.195, \"Regional indicator\": \"Latin America and Caribbean\", \"_merge\": \"both\"}, {\"Country name\": \"Japan\", \"year\": 2019, \"Life Ladder\": 5.908, \"Log GDP per capita\": 10.632, \"Social support\": 0.878, \"Healthy life expectancy at birth\": 75.1, \"Freedom to make life choices\": 0.806, \"Generosity\": -0.255, \"Perceptions of corruption\": 0.617, \"Positive affect\": 0.743, \"Negative affect\": 0.194, \"Regional indicator\": \"East Asia\", \"_merge\": \"both\"}, {\"Country name\": \"Jordan\", \"year\": 2019, \"Life Ladder\": 4.453, \"Log GDP per capita\": 9.201, \"Social support\": 0.793, \"Healthy life expectancy at birth\": 67.0, \"Freedom to make life choices\": 0.726, \"Generosity\": -0.165, \"Perceptions of corruption\": null, \"Positive affect\": null, \"Negative affect\": null, \"Regional indicator\": \"Middle East and North Africa\", \"_merge\": \"both\"}, {\"Country name\": \"Kazakhstan\", \"year\": 2019, \"Life Ladder\": 6.272, \"Log GDP per capita\": 10.179, \"Social support\": 0.951, \"Healthy life expectancy at birth\": 65.2, \"Freedom to make life choices\": 0.852, \"Generosity\": -0.055, \"Perceptions of corruption\": 0.708, \"Positive affect\": 0.787, \"Negative affect\": 0.139, \"Regional indicator\": \"Commonwealth of Independent States\", \"_merge\": \"both\"}, {\"Country name\": \"Kenya\", \"year\": 2019, \"Life Ladder\": 4.619, \"Log GDP per capita\": 8.373, \"Social support\": 0.676, \"Healthy life expectancy at birth\": 60.7, \"Freedom to make life choices\": 0.818, \"Generosity\": 0.31, \"Perceptions of corruption\": 0.794, \"Positive affect\": 0.751, \"Negative affect\": 0.251, \"Regional indicator\": \"Sub-Saharan Africa\", \"_merge\": \"both\"}, {\"Country name\": \"Kosovo\", \"year\": 2019, \"Life Ladder\": 6.425, \"Log GDP per capita\": 9.339, \"Social support\": 0.843, \"Healthy life expectancy at birth\": null, \"Freedom to make life choices\": 0.841, \"Generosity\": 0.247, \"Perceptions of corruption\": 0.92, \"Positive affect\": 0.749, \"Negative affect\": 0.141, \"Regional indicator\": \"Central and Eastern Europe\", \"_merge\": \"both\"}, {\"Country name\": \"Kuwait\", \"year\": 2019, \"Life Ladder\": 6.106, \"Log GDP per capita\": 10.817, \"Social support\": 0.842, \"Healthy life expectancy at birth\": 66.9, \"Freedom to make life choices\": 0.867, \"Generosity\": -0.104, \"Perceptions of corruption\": null, \"Positive affect\": 0.695, \"Negative affect\": 0.303, \"Regional indicator\": \"Middle East and North Africa\", \"_merge\": \"both\"}, {\"Country name\": \"Kyrgyzstan\", \"year\": 2019, \"Life Ladder\": 5.685, \"Log GDP per capita\": 8.567, \"Social support\": 0.877, \"Healthy life expectancy at birth\": 64.4, \"Freedom to make life choices\": 0.92, \"Generosity\": -0.002, \"Perceptions of corruption\": 0.885, \"Positive affect\": 0.766, \"Negative affect\": 0.207, \"Regional indicator\": \"Commonwealth of Independent States\", \"_merge\": \"both\"}, {\"Country name\": \"Laos\", \"year\": 2019, \"Life Ladder\": 5.197, \"Log GDP per capita\": 8.965, \"Social support\": 0.729, \"Healthy life expectancy at birth\": 59.1, \"Freedom to make life choices\": 0.906, \"Generosity\": 0.061, \"Perceptions of corruption\": 0.62, \"Positive affect\": 0.878, \"Negative affect\": 0.306, \"Regional indicator\": \"Southeast Asia\", \"_merge\": \"both\"}, {\"Country name\": \"Latvia\", \"year\": 2019, \"Life Ladder\": 5.97, \"Log GDP per capita\": 10.336, \"Social support\": 0.936, \"Healthy life expectancy at birth\": 67.1, \"Freedom to make life choices\": 0.698, \"Generosity\": -0.194, \"Perceptions of corruption\": 0.789, \"Positive affect\": 0.575, \"Negative affect\": 0.212, \"Regional indicator\": \"Central and Eastern Europe\", \"_merge\": \"both\"}, {\"Country name\": \"Lebanon\", \"year\": 2019, \"Life Ladder\": 4.024, \"Log GDP per capita\": 9.597, \"Social support\": 0.866, \"Healthy life expectancy at birth\": 67.6, \"Freedom to make life choices\": 0.447, \"Generosity\": -0.081, \"Perceptions of corruption\": 0.89, \"Positive affect\": 0.322, \"Negative affect\": 0.494, \"Regional indicator\": \"Middle East and North Africa\", \"_merge\": \"both\"}, {\"Country name\": \"Lesotho\", \"year\": 2019, \"Life Ladder\": 3.512, \"Log GDP per capita\": 7.926, \"Social support\": 0.79, \"Healthy life expectancy at birth\": 48.7, \"Freedom to make life choices\": 0.716, \"Generosity\": -0.131, \"Perceptions of corruption\": 0.915, \"Positive affect\": 0.735, \"Negative affect\": 0.273, \"Regional indicator\": \"Sub-Saharan Africa\", \"_merge\": \"both\"}, {\"Country name\": \"Liberia\", \"year\": 2019, \"Life Ladder\": 5.121, \"Log GDP per capita\": 7.264, \"Social support\": 0.712, \"Healthy life expectancy at birth\": 56.9, \"Freedom to make life choices\": 0.706, \"Generosity\": 0.051, \"Perceptions of corruption\": 0.828, \"Positive affect\": 0.636, \"Negative affect\": 0.389, \"Regional indicator\": \"Sub-Saharan Africa\", \"_merge\": \"both\"}, {\"Country name\": \"Libya\", \"year\": 2019, \"Life Ladder\": 5.33, \"Log GDP per capita\": 9.627, \"Social support\": 0.827, \"Healthy life expectancy at birth\": 62.3, \"Freedom to make life choices\": 0.762, \"Generosity\": -0.073, \"Perceptions of corruption\": 0.686, \"Positive affect\": 0.709, \"Negative affect\": 0.401, \"Regional indicator\": \"Middle East and North Africa\", \"_merge\": \"both\"}, {\"Country name\": \"Lithuania\", \"year\": 2019, \"Life Ladder\": 6.064, \"Log GDP per capita\": 10.518, \"Social support\": 0.918, \"Healthy life expectancy at birth\": 67.9, \"Freedom to make life choices\": 0.78, \"Generosity\": -0.251, \"Perceptions of corruption\": 0.783, \"Positive affect\": 0.566, \"Negative affect\": 0.276, \"Regional indicator\": \"Central and Eastern Europe\", \"_merge\": \"both\"}, {\"Country name\": \"Luxembourg\", \"year\": 2019, \"Life Ladder\": 7.404, \"Log GDP per capita\": 11.648, \"Social support\": 0.912, \"Healthy life expectancy at birth\": 72.6, \"Freedom to make life choices\": 0.93, \"Generosity\": -0.045, \"Perceptions of corruption\": 0.39, \"Positive affect\": 0.789, \"Negative affect\": 0.212, \"Regional indicator\": \"Western Europe\", \"_merge\": \"both\"}, {\"Country name\": \"Madagascar\", \"year\": 2019, \"Life Ladder\": 4.339, \"Log GDP per capita\": 7.406, \"Social support\": 0.701, \"Healthy life expectancy at birth\": 59.5, \"Freedom to make life choices\": 0.55, \"Generosity\": -0.012, \"Perceptions of corruption\": 0.72, \"Positive affect\": 0.723, \"Negative affect\": 0.304, \"Regional indicator\": \"Sub-Saharan Africa\", \"_merge\": \"both\"}, {\"Country name\": \"Malawi\", \"year\": 2019, \"Life Ladder\": 3.869, \"Log GDP per capita\": 6.966, \"Social support\": 0.549, \"Healthy life expectancy at birth\": 58.3, \"Freedom to make life choices\": 0.765, \"Generosity\": 0.004, \"Perceptions of corruption\": 0.68, \"Positive affect\": 0.537, \"Negative affect\": 0.348, \"Regional indicator\": \"Sub-Saharan Africa\", \"_merge\": \"both\"}, {\"Country name\": \"Malaysia\", \"year\": 2019, \"Life Ladder\": 5.428, \"Log GDP per capita\": 10.252, \"Social support\": 0.842, \"Healthy life expectancy at birth\": 67.2, \"Freedom to make life choices\": 0.916, \"Generosity\": 0.123, \"Perceptions of corruption\": 0.782, \"Positive affect\": 0.834, \"Negative affect\": 0.176, \"Regional indicator\": \"Southeast Asia\", \"_merge\": \"both\"}, {\"Country name\": \"Mali\", \"year\": 2019, \"Life Ladder\": 4.988, \"Log GDP per capita\": 7.752, \"Social support\": 0.755, \"Healthy life expectancy at birth\": 52.2, \"Freedom to make life choices\": 0.67, \"Generosity\": -0.038, \"Perceptions of corruption\": 0.846, \"Positive affect\": 0.712, \"Negative affect\": 0.358, \"Regional indicator\": \"Sub-Saharan Africa\", \"_merge\": \"both\"}, {\"Country name\": \"Malta\", \"year\": 2019, \"Life Ladder\": 6.733, \"Log GDP per capita\": 10.677, \"Social support\": 0.922, \"Healthy life expectancy at birth\": 72.2, \"Freedom to make life choices\": 0.924, \"Generosity\": 0.087, \"Perceptions of corruption\": 0.689, \"Positive affect\": 0.707, \"Negative affect\": 0.356, \"Regional indicator\": \"Western Europe\", \"_merge\": \"both\"}, {\"Country name\": \"Mauritania\", \"year\": 2019, \"Life Ladder\": 4.153, \"Log GDP per capita\": 8.556, \"Social support\": 0.798, \"Healthy life expectancy at birth\": 57.3, \"Freedom to make life choices\": 0.628, \"Generosity\": -0.102, \"Perceptions of corruption\": 0.743, \"Positive affect\": 0.692, \"Negative affect\": 0.26, \"Regional indicator\": \"Sub-Saharan Africa\", \"_merge\": \"both\"}, {\"Country name\": \"Mauritius\", \"year\": 2019, \"Life Ladder\": 6.241, \"Log GDP per capita\": 10.043, \"Social support\": 0.913, \"Healthy life expectancy at birth\": 66.7, \"Freedom to make life choices\": 0.893, \"Generosity\": -0.053, \"Perceptions of corruption\": 0.81, \"Positive affect\": 0.808, \"Negative affect\": 0.149, \"Regional indicator\": \"Sub-Saharan Africa\", \"_merge\": \"both\"}, {\"Country name\": \"Mexico\", \"year\": 2019, \"Life Ladder\": 6.432, \"Log GDP per capita\": 9.891, \"Social support\": 0.852, \"Healthy life expectancy at birth\": 68.6, \"Freedom to make life choices\": 0.903, \"Generosity\": -0.141, \"Perceptions of corruption\": 0.809, \"Positive affect\": 0.864, \"Negative affect\": 0.252, \"Regional indicator\": \"Latin America and Caribbean\", \"_merge\": \"both\"}, {\"Country name\": \"Moldova\", \"year\": 2019, \"Life Ladder\": 5.803, \"Log GDP per capita\": 9.475, \"Social support\": 0.809, \"Healthy life expectancy at birth\": 65.7, \"Freedom to make life choices\": 0.784, \"Generosity\": -0.092, \"Perceptions of corruption\": 0.884, \"Positive affect\": 0.631, \"Negative affect\": 0.262, \"Regional indicator\": \"Commonwealth of Independent States\", \"_merge\": \"both\"}, {\"Country name\": \"Mongolia\", \"year\": 2019, \"Life Ladder\": 5.563, \"Log GDP per capita\": 9.418, \"Social support\": 0.946, \"Healthy life expectancy at birth\": 62.5, \"Freedom to make life choices\": 0.711, \"Generosity\": 0.149, \"Perceptions of corruption\": 0.873, \"Positive affect\": 0.707, \"Negative affect\": 0.167, \"Regional indicator\": \"East Asia\", \"_merge\": \"both\"}, {\"Country name\": \"Montenegro\", \"year\": 2019, \"Life Ladder\": 5.386, \"Log GDP per capita\": 9.97, \"Social support\": 0.832, \"Healthy life expectancy at birth\": 68.7, \"Freedom to make life choices\": 0.694, \"Generosity\": -0.105, \"Perceptions of corruption\": 0.82, \"Positive affect\": 0.591, \"Negative affect\": 0.366, \"Regional indicator\": \"Central and Eastern Europe\", \"_merge\": \"both\"}, {\"Country name\": \"Morocco\", \"year\": 2019, \"Life Ladder\": 5.057, \"Log GDP per capita\": 8.925, \"Social support\": 0.535, \"Healthy life expectancy at birth\": 66.2, \"Freedom to make life choices\": 0.757, \"Generosity\": -0.244, \"Perceptions of corruption\": 0.757, \"Positive affect\": 0.589, \"Negative affect\": 0.41, \"Regional indicator\": \"Middle East and North Africa\", \"_merge\": \"both\"}, {\"Country name\": \"Mozambique\", \"year\": 2019, \"Life Ladder\": 4.932, \"Log GDP per capita\": 7.155, \"Social support\": 0.742, \"Healthy life expectancy at birth\": 55.2, \"Freedom to make life choices\": 0.87, \"Generosity\": 0.073, \"Perceptions of corruption\": 0.682, \"Positive affect\": 0.587, \"Negative affect\": 0.384, \"Regional indicator\": \"Sub-Saharan Africa\", \"_merge\": \"both\"}, {\"Country name\": \"Myanmar\", \"year\": 2019, \"Life Ladder\": 4.434, \"Log GDP per capita\": 8.545, \"Social support\": 0.763, \"Healthy life expectancy at birth\": 59.3, \"Freedom to make life choices\": 0.899, \"Generosity\": 0.561, \"Perceptions of corruption\": 0.682, \"Positive affect\": 0.755, \"Negative affect\": 0.286, \"Regional indicator\": \"Southeast Asia\", \"_merge\": \"both\"}, {\"Country name\": \"Namibia\", \"year\": 2019, \"Life Ladder\": 4.436, \"Log GDP per capita\": 9.173, \"Social support\": 0.845, \"Healthy life expectancy at birth\": 56.8, \"Freedom to make life choices\": 0.739, \"Generosity\": -0.174, \"Perceptions of corruption\": 0.879, \"Positive affect\": 0.672, \"Negative affect\": 0.256, \"Regional indicator\": \"Sub-Saharan Africa\", \"_merge\": \"both\"}, {\"Country name\": \"Nepal\", \"year\": 2019, \"Life Ladder\": 5.449, \"Log GDP per capita\": 8.136, \"Social support\": 0.772, \"Healthy life expectancy at birth\": 64.6, \"Freedom to make life choices\": 0.79, \"Generosity\": 0.167, \"Perceptions of corruption\": 0.712, \"Positive affect\": 0.536, \"Negative affect\": 0.357, \"Regional indicator\": \"South Asia\", \"_merge\": \"both\"}, {\"Country name\": \"Netherlands\", \"year\": 2019, \"Life Ladder\": 7.425, \"Log GDP per capita\": 10.953, \"Social support\": 0.941, \"Healthy life expectancy at birth\": 72.4, \"Freedom to make life choices\": 0.886, \"Generosity\": 0.213, \"Perceptions of corruption\": 0.36, \"Positive affect\": 0.838, \"Negative affect\": 0.231, \"Regional indicator\": \"Western Europe\", \"_merge\": \"both\"}, {\"Country name\": \"New Zealand\", \"year\": 2019, \"Life Ladder\": 7.205, \"Log GDP per capita\": 10.666, \"Social support\": 0.939, \"Healthy life expectancy at birth\": 73.4, \"Freedom to make life choices\": 0.912, \"Generosity\": 0.157, \"Perceptions of corruption\": 0.234, \"Positive affect\": 0.816, \"Negative affect\": 0.191, \"Regional indicator\": \"North America and ANZ\", \"_merge\": \"both\"}, {\"Country name\": \"Nicaragua\", \"year\": 2019, \"Life Ladder\": 6.113, \"Log GDP per capita\": 8.595, \"Social support\": 0.874, \"Healthy life expectancy at birth\": 67.8, \"Freedom to make life choices\": 0.883, \"Generosity\": 0.029, \"Perceptions of corruption\": 0.622, \"Positive affect\": 0.835, \"Negative affect\": 0.337, \"Regional indicator\": \"Latin America and Caribbean\", \"_merge\": \"both\"}, {\"Country name\": \"Niger\", \"year\": 2019, \"Life Ladder\": 5.004, \"Log GDP per capita\": 7.106, \"Social support\": 0.677, \"Healthy life expectancy at birth\": 54.0, \"Freedom to make life choices\": 0.831, \"Generosity\": 0.026, \"Perceptions of corruption\": 0.729, \"Positive affect\": 0.816, \"Negative affect\": 0.304, \"Regional indicator\": \"Sub-Saharan Africa\", \"_merge\": \"both\"}, {\"Country name\": \"Nigeria\", \"year\": 2019, \"Life Ladder\": 4.356, \"Log GDP per capita\": 8.544, \"Social support\": 0.734, \"Healthy life expectancy at birth\": 50.1, \"Freedom to make life choices\": 0.729, \"Generosity\": 0.032, \"Perceptions of corruption\": 0.873, \"Positive affect\": 0.715, \"Negative affect\": 0.245, \"Regional indicator\": \"Sub-Saharan Africa\", \"_merge\": \"both\"}, {\"Country name\": \"North Cyprus\", \"year\": 2019, \"Life Ladder\": 5.467, \"Log GDP per capita\": null, \"Social support\": 0.803, \"Healthy life expectancy at birth\": null, \"Freedom to make life choices\": 0.793, \"Generosity\": null, \"Perceptions of corruption\": 0.64, \"Positive affect\": 0.494, \"Negative affect\": 0.296, \"Regional indicator\": \"Western Europe\", \"_merge\": \"both\"}, {\"Country name\": \"North Macedonia\", \"year\": 2019, \"Life Ladder\": 5.015, \"Log GDP per capita\": 9.711, \"Social support\": 0.815, \"Healthy life expectancy at birth\": 65.474, \"Freedom to make life choices\": 0.725, \"Generosity\": 0.024, \"Perceptions of corruption\": 0.923, \"Positive affect\": 0.576, \"Negative affect\": 0.304, \"Regional indicator\": \"Central and Eastern Europe\", \"_merge\": \"both\"}, {\"Country name\": \"Norway\", \"year\": 2019, \"Life Ladder\": 7.442, \"Log GDP per capita\": 11.061, \"Social support\": 0.942, \"Healthy life expectancy at birth\": 73.3, \"Freedom to make life choices\": 0.954, \"Generosity\": 0.111, \"Perceptions of corruption\": 0.271, \"Positive affect\": 0.823, \"Negative affect\": 0.195, \"Regional indicator\": \"Western Europe\", \"_merge\": \"both\"}, {\"Country name\": \"Pakistan\", \"year\": 2019, \"Life Ladder\": 4.443, \"Log GDP per capita\": 8.453, \"Social support\": 0.617, \"Healthy life expectancy at birth\": 58.9, \"Freedom to make life choices\": 0.685, \"Generosity\": 0.124, \"Perceptions of corruption\": 0.776, \"Positive affect\": 0.581, \"Negative affect\": 0.424, \"Regional indicator\": \"South Asia\", \"_merge\": \"both\"}, {\"Country name\": \"Palestinian Territories\", \"year\": 2019, \"Life Ladder\": 4.483, \"Log GDP per capita\": null, \"Social support\": 0.833, \"Healthy life expectancy at birth\": null, \"Freedom to make life choices\": 0.653, \"Generosity\": null, \"Perceptions of corruption\": 0.829, \"Positive affect\": 0.625, \"Negative affect\": 0.4, \"Regional indicator\": \"Middle East and North Africa\", \"_merge\": \"both\"}, {\"Country name\": \"Panama\", \"year\": 2019, \"Life Ladder\": 6.086, \"Log GDP per capita\": 10.356, \"Social support\": 0.886, \"Healthy life expectancy at birth\": 69.7, \"Freedom to make life choices\": 0.883, \"Generosity\": -0.199, \"Perceptions of corruption\": 0.869, \"Positive affect\": 0.878, \"Negative affect\": 0.244, \"Regional indicator\": \"Latin America and Caribbean\", \"_merge\": \"both\"}, {\"Country name\": \"Paraguay\", \"year\": 2019, \"Life Ladder\": 5.653, \"Log GDP per capita\": 9.448, \"Social support\": 0.892, \"Healthy life expectancy at birth\": 65.9, \"Freedom to make life choices\": 0.876, \"Generosity\": 0.028, \"Perceptions of corruption\": 0.882, \"Positive affect\": 0.858, \"Negative affect\": 0.275, \"Regional indicator\": \"Latin America and Caribbean\", \"_merge\": \"both\"}, {\"Country name\": \"Peru\", \"year\": 2019, \"Life Ladder\": 5.999, \"Log GDP per capita\": 9.461, \"Social support\": 0.809, \"Healthy life expectancy at birth\": 68.4, \"Freedom to make life choices\": 0.815, \"Generosity\": -0.13, \"Perceptions of corruption\": 0.874, \"Positive affect\": 0.82, \"Negative affect\": 0.375, \"Regional indicator\": \"Latin America and Caribbean\", \"_merge\": \"both\"}, {\"Country name\": \"Philippines\", \"year\": 2019, \"Life Ladder\": 6.268, \"Log GDP per capita\": 9.095, \"Social support\": 0.845, \"Healthy life expectancy at birth\": 62.0, \"Freedom to make life choices\": 0.91, \"Generosity\": -0.083, \"Perceptions of corruption\": 0.748, \"Positive affect\": 0.781, \"Negative affect\": 0.341, \"Regional indicator\": \"Southeast Asia\", \"_merge\": \"both\"}, {\"Country name\": \"Poland\", \"year\": 2019, \"Life Ladder\": 6.242, \"Log GDP per capita\": 10.407, \"Social support\": 0.878, \"Healthy life expectancy at birth\": 69.7, \"Freedom to make life choices\": 0.883, \"Generosity\": -0.231, \"Perceptions of corruption\": 0.696, \"Positive affect\": 0.725, \"Negative affect\": 0.168, \"Regional indicator\": \"Central and Eastern Europe\", \"_merge\": \"both\"}, {\"Country name\": \"Portugal\", \"year\": 2019, \"Life Ladder\": 6.095, \"Log GDP per capita\": 10.457, \"Social support\": 0.876, \"Healthy life expectancy at birth\": 72.6, \"Freedom to make life choices\": 0.882, \"Generosity\": -0.234, \"Perceptions of corruption\": 0.915, \"Positive affect\": 0.71, \"Negative affect\": 0.3, \"Regional indicator\": \"Western Europe\", \"_merge\": \"both\"}, {\"Country name\": \"Romania\", \"year\": 2019, \"Life Ladder\": 6.13, \"Log GDP per capita\": 10.306, \"Social support\": 0.842, \"Healthy life expectancy at birth\": 67.5, \"Freedom to make life choices\": 0.848, \"Generosity\": -0.221, \"Perceptions of corruption\": 0.954, \"Positive affect\": 0.697, \"Negative affect\": 0.244, \"Regional indicator\": \"Central and Eastern Europe\", \"_merge\": \"both\"}, {\"Country name\": \"Russia\", \"year\": 2019, \"Life Ladder\": 5.441, \"Log GDP per capita\": 10.205, \"Social support\": 0.91, \"Healthy life expectancy at birth\": 64.7, \"Freedom to make life choices\": 0.715, \"Generosity\": -0.116, \"Perceptions of corruption\": 0.848, \"Positive affect\": 0.691, \"Negative affect\": 0.2, \"Regional indicator\": \"Commonwealth of Independent States\", \"_merge\": \"both\"}, {\"Country name\": \"Rwanda\", \"year\": 2019, \"Life Ladder\": 3.268, \"Log GDP per capita\": 7.708, \"Social support\": 0.489, \"Healthy life expectancy at birth\": 61.7, \"Freedom to make life choices\": 0.869, \"Generosity\": 0.064, \"Perceptions of corruption\": 0.168, \"Positive affect\": 0.736, \"Negative affect\": 0.418, \"Regional indicator\": \"Sub-Saharan Africa\", \"_merge\": \"both\"}, {\"Country name\": \"Saudi Arabia\", \"year\": 2019, \"Life Ladder\": 6.561, \"Log GDP per capita\": 10.757, \"Social support\": 0.912, \"Healthy life expectancy at birth\": 66.6, \"Freedom to make life choices\": 0.891, \"Generosity\": -0.147, \"Perceptions of corruption\": null, \"Positive affect\": 0.732, \"Negative affect\": 0.238, \"Regional indicator\": \"Middle East and North Africa\", \"_merge\": \"both\"}, {\"Country name\": \"Senegal\", \"year\": 2019, \"Life Ladder\": 5.489, \"Log GDP per capita\": 8.13, \"Social support\": 0.688, \"Healthy life expectancy at birth\": 60.0, \"Freedom to make life choices\": 0.759, \"Generosity\": -0.019, \"Perceptions of corruption\": 0.796, \"Positive affect\": 0.789, \"Negative affect\": 0.332, \"Regional indicator\": \"Sub-Saharan Africa\", \"_merge\": \"both\"}, {\"Country name\": \"Serbia\", \"year\": 2019, \"Life Ladder\": 6.241, \"Log GDP per capita\": 9.808, \"Social support\": 0.903, \"Healthy life expectancy at birth\": 68.6, \"Freedom to make life choices\": 0.753, \"Generosity\": -0.04, \"Perceptions of corruption\": 0.813, \"Positive affect\": 0.509, \"Negative affect\": 0.242, \"Regional indicator\": \"Central and Eastern Europe\", \"_merge\": \"both\"}, {\"Country name\": \"Sierra Leone\", \"year\": 2019, \"Life Ladder\": 3.447, \"Log GDP per capita\": 7.449, \"Social support\": 0.611, \"Healthy life expectancy at birth\": 52.4, \"Freedom to make life choices\": 0.718, \"Generosity\": 0.074, \"Perceptions of corruption\": 0.874, \"Positive affect\": 0.513, \"Negative affect\": 0.438, \"Regional indicator\": \"Sub-Saharan Africa\", \"_merge\": \"both\"}, {\"Country name\": \"Singapore\", \"year\": 2019, \"Life Ladder\": 6.378, \"Log GDP per capita\": 11.486, \"Social support\": 0.925, \"Healthy life expectancy at birth\": 77.1, \"Freedom to make life choices\": 0.938, \"Generosity\": 0.027, \"Perceptions of corruption\": 0.07, \"Positive affect\": 0.723, \"Negative affect\": 0.138, \"Regional indicator\": \"Southeast Asia\", \"_merge\": \"both\"}, {\"Country name\": \"Slovakia\", \"year\": 2019, \"Life Ladder\": 6.243, \"Log GDP per capita\": 10.398, \"Social support\": 0.933, \"Healthy life expectancy at birth\": 69.2, \"Freedom to make life choices\": 0.771, \"Generosity\": -0.129, \"Perceptions of corruption\": 0.926, \"Positive affect\": 0.75, \"Negative affect\": 0.252, \"Regional indicator\": \"Central and Eastern Europe\", \"_merge\": \"both\"}, {\"Country name\": \"Slovenia\", \"year\": 2019, \"Life Ladder\": 6.665, \"Log GDP per capita\": 10.563, \"Social support\": 0.949, \"Healthy life expectancy at birth\": 71.4, \"Freedom to make life choices\": 0.945, \"Generosity\": -0.102, \"Perceptions of corruption\": 0.785, \"Positive affect\": 0.679, \"Negative affect\": 0.228, \"Regional indicator\": \"Central and Eastern Europe\", \"_merge\": \"both\"}, {\"Country name\": \"South Africa\", \"year\": 2019, \"Life Ladder\": 5.035, \"Log GDP per capita\": 9.432, \"Social support\": 0.848, \"Healthy life expectancy at birth\": 56.9, \"Freedom to make life choices\": 0.738, \"Generosity\": -0.134, \"Perceptions of corruption\": 0.82, \"Positive affect\": 0.801, \"Negative affect\": 0.268, \"Regional indicator\": \"Sub-Saharan Africa\", \"_merge\": \"both\"}, {\"Country name\": \"South Korea\", \"year\": 2019, \"Life Ladder\": 5.903, \"Log GDP per capita\": 10.661, \"Social support\": 0.783, \"Healthy life expectancy at birth\": 73.9, \"Freedom to make life choices\": 0.706, \"Generosity\": -0.055, \"Perceptions of corruption\": 0.718, \"Positive affect\": 0.684, \"Negative affect\": 0.236, \"Regional indicator\": \"East Asia\", \"_merge\": \"both\"}, {\"Country name\": \"Spain\", \"year\": 2019, \"Life Ladder\": 6.457, \"Log GDP per capita\": 10.618, \"Social support\": 0.949, \"Healthy life expectancy at birth\": 74.7, \"Freedom to make life choices\": 0.778, \"Generosity\": -0.049, \"Perceptions of corruption\": 0.73, \"Positive affect\": 0.663, \"Negative affect\": 0.316, \"Regional indicator\": \"Western Europe\", \"_merge\": \"both\"}, {\"Country name\": \"Sri Lanka\", \"year\": 2019, \"Life Ladder\": 4.213, \"Log GDP per capita\": 9.479, \"Social support\": 0.815, \"Healthy life expectancy at birth\": 67.4, \"Freedom to make life choices\": 0.824, \"Generosity\": 0.051, \"Perceptions of corruption\": 0.863, \"Positive affect\": 0.816, \"Negative affect\": 0.315, \"Regional indicator\": \"South Asia\", \"_merge\": \"both\"}, {\"Country name\": \"Swaziland\", \"year\": 2019, \"Life Ladder\": 4.396, \"Log GDP per capita\": 9.07, \"Social support\": 0.759, \"Healthy life expectancy at birth\": 51.27, \"Freedom to make life choices\": 0.597, \"Generosity\": -0.191, \"Perceptions of corruption\": 0.724, \"Positive affect\": 0.778, \"Negative affect\": 0.28, \"Regional indicator\": \"Sub-Saharan Africa\", \"_merge\": \"both\"}, {\"Country name\": \"Sweden\", \"year\": 2019, \"Life Ladder\": 7.398, \"Log GDP per capita\": 10.882, \"Social support\": 0.934, \"Healthy life expectancy at birth\": 72.7, \"Freedom to make life choices\": 0.942, \"Generosity\": 0.091, \"Perceptions of corruption\": 0.25, \"Positive affect\": 0.826, \"Negative affect\": 0.202, \"Regional indicator\": \"Western Europe\", \"_merge\": \"both\"}, {\"Country name\": \"Switzerland\", \"year\": 2019, \"Life Ladder\": 7.694, \"Log GDP per capita\": 11.136, \"Social support\": 0.949, \"Healthy life expectancy at birth\": 74.4, \"Freedom to make life choices\": 0.913, \"Generosity\": 0.036, \"Perceptions of corruption\": 0.294, \"Positive affect\": 0.798, \"Negative affect\": 0.171, \"Regional indicator\": \"Western Europe\", \"_merge\": \"both\"}, {\"Country name\": \"Taiwan Province of China\", \"year\": 2019, \"Life Ladder\": 6.537, \"Log GDP per capita\": null, \"Social support\": 0.893, \"Healthy life expectancy at birth\": null, \"Freedom to make life choices\": 0.814, \"Generosity\": null, \"Perceptions of corruption\": 0.718, \"Positive affect\": 0.86, \"Negative affect\": 0.093, \"Regional indicator\": \"East Asia\", \"_merge\": \"both\"}, {\"Country name\": \"Tajikistan\", \"year\": 2019, \"Life Ladder\": 5.464, \"Log GDP per capita\": 8.126, \"Social support\": 0.88, \"Healthy life expectancy at birth\": 64.4, \"Freedom to make life choices\": null, \"Generosity\": -0.045, \"Perceptions of corruption\": 0.49, \"Positive affect\": 0.729, \"Negative affect\": 0.178, \"Regional indicator\": \"Commonwealth of Independent States\", \"_merge\": \"both\"}, {\"Country name\": \"Tanzania\", \"year\": 2019, \"Life Ladder\": 3.64, \"Log GDP per capita\": 7.886, \"Social support\": 0.687, \"Healthy life expectancy at birth\": 58.0, \"Freedom to make life choices\": 0.85, \"Generosity\": 0.1, \"Perceptions of corruption\": 0.589, \"Positive affect\": 0.726, \"Negative affect\": 0.243, \"Regional indicator\": \"Sub-Saharan Africa\", \"_merge\": \"both\"}, {\"Country name\": \"Thailand\", \"year\": 2019, \"Life Ladder\": 6.022, \"Log GDP per capita\": 9.824, \"Social support\": 0.903, \"Healthy life expectancy at birth\": 67.4, \"Freedom to make life choices\": 0.898, \"Generosity\": 0.309, \"Perceptions of corruption\": 0.877, \"Positive affect\": 0.843, \"Negative affect\": 0.208, \"Regional indicator\": \"Southeast Asia\", \"_merge\": \"both\"}, {\"Country name\": \"Togo\", \"year\": 2019, \"Life Ladder\": 4.179, \"Log GDP per capita\": 7.375, \"Social support\": 0.539, \"Healthy life expectancy at birth\": 55.1, \"Freedom to make life choices\": 0.617, \"Generosity\": 0.065, \"Perceptions of corruption\": 0.737, \"Positive affect\": 0.59, \"Negative affect\": 0.444, \"Regional indicator\": \"Sub-Saharan Africa\", \"_merge\": \"both\"}, {\"Country name\": \"Tunisia\", \"year\": 2019, \"Life Ladder\": 4.315, \"Log GDP per capita\": 9.283, \"Social support\": 0.61, \"Healthy life expectancy at birth\": 67.2, \"Freedom to make life choices\": 0.659, \"Generosity\": -0.209, \"Perceptions of corruption\": 0.889, \"Positive affect\": 0.539, \"Negative affect\": 0.433, \"Regional indicator\": \"Middle East and North Africa\", \"_merge\": \"both\"}, {\"Country name\": \"Turkey\", \"year\": 2019, \"Life Ladder\": 4.872, \"Log GDP per capita\": 10.246, \"Social support\": 0.792, \"Healthy life expectancy at birth\": 67.2, \"Freedom to make life choices\": 0.631, \"Generosity\": -0.136, \"Perceptions of corruption\": 0.76, \"Positive affect\": 0.422, \"Negative affect\": 0.368, \"Regional indicator\": \"Middle East and North Africa\", \"_merge\": \"both\"}, {\"Country name\": \"Turkmenistan\", \"year\": 2019, \"Life Ladder\": 5.474, \"Log GDP per capita\": 9.651, \"Social support\": 0.982, \"Healthy life expectancy at birth\": 62.6, \"Freedom to make life choices\": 0.892, \"Generosity\": 0.285, \"Perceptions of corruption\": null, \"Positive affect\": 0.51, \"Negative affect\": 0.183, \"Regional indicator\": \"Commonwealth of Independent States\", \"_merge\": \"both\"}, {\"Country name\": \"Uganda\", \"year\": 2019, \"Life Ladder\": 4.948, \"Log GDP per capita\": 7.688, \"Social support\": 0.805, \"Healthy life expectancy at birth\": 56.1, \"Freedom to make life choices\": 0.704, \"Generosity\": 0.139, \"Perceptions of corruption\": 0.826, \"Positive affect\": 0.693, \"Negative affect\": 0.385, \"Regional indicator\": \"Sub-Saharan Africa\", \"_merge\": \"both\"}, {\"Country name\": \"Ukraine\", \"year\": 2019, \"Life Ladder\": 4.702, \"Log GDP per capita\": 9.458, \"Social support\": 0.883, \"Healthy life expectancy at birth\": 64.9, \"Freedom to make life choices\": 0.715, \"Generosity\": -0.081, \"Perceptions of corruption\": 0.885, \"Positive affect\": 0.634, \"Negative affect\": 0.201, \"Regional indicator\": \"Commonwealth of Independent States\", \"_merge\": \"both\"}, {\"Country name\": \"United Arab Emirates\", \"year\": 2019, \"Life Ladder\": 6.711, \"Log GDP per capita\": 11.114, \"Social support\": 0.862, \"Healthy life expectancy at birth\": 67.3, \"Freedom to make life choices\": 0.911, \"Generosity\": 0.129, \"Perceptions of corruption\": null, \"Positive affect\": 0.793, \"Negative affect\": 0.284, \"Regional indicator\": \"Middle East and North Africa\", \"_merge\": \"both\"}, {\"Country name\": \"United Kingdom\", \"year\": 2019, \"Life Ladder\": 7.157, \"Log GDP per capita\": 10.751, \"Social support\": 0.943, \"Healthy life expectancy at birth\": 72.5, \"Freedom to make life choices\": 0.854, \"Generosity\": 0.271, \"Perceptions of corruption\": 0.485, \"Positive affect\": 0.775, \"Negative affect\": 0.251, \"Regional indicator\": \"Western Europe\", \"_merge\": \"both\"}, {\"Country name\": \"United States\", \"year\": 2019, \"Life Ladder\": 6.944, \"Log GDP per capita\": 11.043, \"Social support\": 0.917, \"Healthy life expectancy at birth\": 68.2, \"Freedom to make life choices\": 0.836, \"Generosity\": 0.144, \"Perceptions of corruption\": 0.707, \"Positive affect\": 0.815, \"Negative affect\": 0.244, \"Regional indicator\": \"North America and ANZ\", \"_merge\": \"both\"}, {\"Country name\": \"Uruguay\", \"year\": 2019, \"Life Ladder\": 6.6, \"Log GDP per capita\": 9.979, \"Social support\": 0.933, \"Healthy life expectancy at birth\": 69.1, \"Freedom to make life choices\": 0.903, \"Generosity\": -0.095, \"Perceptions of corruption\": 0.599, \"Positive affect\": 0.889, \"Negative affect\": 0.222, \"Regional indicator\": \"Latin America and Caribbean\", \"_merge\": \"both\"}, {\"Country name\": \"Uzbekistan\", \"year\": 2019, \"Life Ladder\": 6.154, \"Log GDP per capita\": 8.853, \"Social support\": 0.915, \"Healthy life expectancy at birth\": 65.4, \"Freedom to make life choices\": 0.97, \"Generosity\": 0.304, \"Perceptions of corruption\": 0.511, \"Positive affect\": 0.845, \"Negative affect\": 0.22, \"Regional indicator\": \"Commonwealth of Independent States\", \"_merge\": \"both\"}, {\"Country name\": \"Venezuela\", \"year\": 2019, \"Life Ladder\": 5.081, \"Log GDP per capita\": null, \"Social support\": 0.888, \"Healthy life expectancy at birth\": 66.7, \"Freedom to make life choices\": 0.626, \"Generosity\": null, \"Perceptions of corruption\": 0.839, \"Positive affect\": 0.761, \"Negative affect\": 0.351, \"Regional indicator\": \"Latin America and Caribbean\", \"_merge\": \"both\"}, {\"Country name\": \"Vietnam\", \"year\": 2019, \"Life Ladder\": 5.467, \"Log GDP per capita\": 8.992, \"Social support\": 0.848, \"Healthy life expectancy at birth\": 68.1, \"Freedom to make life choices\": 0.952, \"Generosity\": -0.126, \"Perceptions of corruption\": 0.788, \"Positive affect\": 0.751, \"Negative affect\": 0.186, \"Regional indicator\": \"Southeast Asia\", \"_merge\": \"both\"}, {\"Country name\": \"Yemen\", \"year\": 2019, \"Life Ladder\": 4.197, \"Log GDP per capita\": null, \"Social support\": 0.87, \"Healthy life expectancy at birth\": 57.5, \"Freedom to make life choices\": 0.651, \"Generosity\": null, \"Perceptions of corruption\": 0.798, \"Positive affect\": 0.543, \"Negative affect\": 0.213, \"Regional indicator\": \"Middle East and North Africa\", \"_merge\": \"both\"}, {\"Country name\": \"Zambia\", \"year\": 2019, \"Life Ladder\": 3.307, \"Log GDP per capita\": 8.155, \"Social support\": 0.638, \"Healthy life expectancy at birth\": 55.8, \"Freedom to make life choices\": 0.811, \"Generosity\": 0.077, \"Perceptions of corruption\": 0.832, \"Positive affect\": 0.743, \"Negative affect\": 0.394, \"Regional indicator\": \"Sub-Saharan Africa\", \"_merge\": \"both\"}, {\"Country name\": \"Zimbabwe\", \"year\": 2019, \"Life Ladder\": 2.694, \"Log GDP per capita\": 7.95, \"Social support\": 0.759, \"Healthy life expectancy at birth\": 56.2, \"Freedom to make life choices\": 0.632, \"Generosity\": -0.064, \"Perceptions of corruption\": 0.831, \"Positive affect\": 0.716, \"Negative affect\": 0.235, \"Regional indicator\": \"Sub-Saharan Africa\", \"_merge\": \"both\"}]}}, {\"mode\": \"vega-lite\"});\n",
       "</script>"
      ],
      "text/plain": [
       "alt.Chart(...)"
      ]
     },
     "execution_count": 13,
     "metadata": {},
     "output_type": "execute_result"
    }
   ],
   "source": [
    "# Poniendo título a nuestro gráfico \n",
    "alt.Chart(happy, height = 500, width = 800).mark_point().encode(\n",
    "    x = alt.X(\"Life Ladder:Q\"),\n",
    "    y = alt.Y(\"Log GDP per capita:Q\", scale = alt.Scale()),\n",
    "    color = alt.Color(\"Regional indicator\"),\n",
    "    size = alt.Size('Generosity')\n",
    "    ).interactive().properties(\n",
    "    title={\n",
    "      \"text\": [\"Esto parece un gráfico inspirado en Rosling\"], \n",
    "      \"subtitle\": [\"Es un homenaje\",\n",
    "                   \"Fuente: Happiness Report\"],\n",
    "      \"color\": \"Black\",\n",
    "      \"subtitleColor\": \"Black\"\n",
    "    })"
   ]
  },
  {
   "cell_type": "code",
   "execution_count": null,
   "metadata": {},
   "outputs": [],
   "source": [
    "#Cambiando los titulos de los ejes\n",
    "\n",
    "alt.Chart(happy).mark_point().encode(\n",
    "    x = alt.X(\"Life Ladder:Q\",  title = \"índice de felicidad\"),\n",
    "    y = alt.Y(\"Log GDP per capita:Q\" ,  title = \"PBi per capita (logs)\"),\n",
    "    color = alt.Color(\"Regional indicator\"),\n",
    "    size = alt.Size('Generosity')\n",
    "    ).interactive().properties(\n",
    "    title={\n",
    "      \"text\": [\"Esto parece un gráfico inspirado en Rosling\"], \n",
    "      \"subtitle\": [\"Es un homenaje\",\n",
    "                   \"Fuente: Happiness Report\"],\n",
    "      \"color\": \"Black\",\n",
    "      \"subtitleColor\": \"Red\"\n",
    "    })"
   ]
  },
  {
   "cell_type": "code",
   "execution_count": null,
   "metadata": {},
   "outputs": [],
   "source": [
    "#Cambiando los titulos de los ejes\n",
    "## Para ver los palettes disponibles https://vega.github.io/vega/docs/schemes/\n",
    "alt.Chart(happy).mark_point().encode(\n",
    "    x = alt.X(\"Life Ladder:Q\",  title = \"índice de felicidad\"),\n",
    "    y = alt.Y(\"Log GDP per capita:Q\" ,  title = \"PBi per capita (logs)\"),\n",
    "    color = alt.Color(\"Regional indicator\"),\n",
    "    size = alt.Size('Generosity')\n",
    "    ).interactive().properties(\n",
    "    title={\n",
    "      \"text\": [\"Esto parece un gráfico inspirado en Rosling\"], \n",
    "      \"subtitle\": [\"Es un homenaje\",\n",
    "                   \"Fuente: Happiness Report\"],\n",
    "      \"color\": \"Black\",\n",
    "      \"subtitleColor\": \"Red\"\n",
    "    })"
   ]
  },
  {
   "cell_type": "code",
   "execution_count": null,
   "metadata": {},
   "outputs": [],
   "source": [
    "#happy_peru = happy_all[happy_all['Country name'] == 'Peru']"
   ]
  },
  {
   "cell_type": "code",
   "execution_count": null,
   "metadata": {},
   "outputs": [],
   "source": [
    "## Usando la api para descargar información del Banco mundial\n",
    "## pip install wbgapi\n",
    "## si no puedes usar pip, prueba hacer conda install pip\n",
    "## Fuente: https://stackoverflow.com/questions/41060382/using-pip-to-install-packages-to-anaconda-environment\n",
    "\n",
    "# tbl = wb.data.DataFrame('SP.POP.TOTL',\n",
    "#                   time = range(2000, 2019), labels = True)\n",
    "\n",
    "# tbl = tbl.reset_index()\n",
    "\n",
    "# tbl.rename(columns = {'SP.POP.TOTL': 'poblacion'}, inplace = True)\n",
    "\n",
    "\n",
    "lst = wb.economy.info().table()\n",
    "lst.pop()\n",
    "nombres = pd.DataFrame(data = lst, columns = [\"economy\", \"Country\", \"Region\", \"income_classification\"])\n",
    "nombres.head(5)\n",
    "\n",
    "tbl_f = pd.merge(tbl, nombres, on = [\"economy\", \"Country\"], how = \"inner\")"
   ]
  },
  {
   "cell_type": "code",
   "execution_count": null,
   "metadata": {},
   "outputs": [],
   "source": [
    "tbl_f"
   ]
  },
  {
   "cell_type": "code",
   "execution_count": null,
   "metadata": {},
   "outputs": [],
   "source": [
    "tbl_f = tbl_f.loc[tbl_f['Region'] != '']"
   ]
  },
  {
   "cell_type": "code",
   "execution_count": null,
   "metadata": {},
   "outputs": [],
   "source": [
    "tbl_melt = tbl_f.melt( id_vars = ['economy', 'Country', 'Region', 'income_classification'],\n",
    "                   value_vars = [col for col in tbl if col.startswith('YR')])"
   ]
  },
  {
   "cell_type": "code",
   "execution_count": null,
   "metadata": {},
   "outputs": [],
   "source": [
    "tbl_melt['year'] = tbl_melt['variable'].str.replace('YR', '').astype('int')\n",
    "\n",
    "tbl_melt.head(10)"
   ]
  },
  {
   "cell_type": "code",
   "execution_count": null,
   "metadata": {},
   "outputs": [],
   "source": [
    "\n",
    "## agregaciones, y otros gráficos\n",
    "\n",
    "g1 = alt.Chart(tbl_melt).mark_area().encode(\n",
    "    x=\"year\",\n",
    "    y=\"sum(value):Q\",\n",
    "    color=\"Region:N\"\n",
    ")\n",
    "\n",
    "g1"
   ]
  },
  {
   "cell_type": "code",
   "execution_count": null,
   "metadata": {},
   "outputs": [],
   "source": [
    "peru = tbl_melt.loc[tbl_melt['Country'] == 'Peru']\n",
    "peru.head()"
   ]
  },
  {
   "cell_type": "code",
   "execution_count": null,
   "metadata": {},
   "outputs": [],
   "source": [
    "g2 = alt.Chart(tbl_melt).mark_bar().encode(\n",
    "    x = alt.X(\"year\"),\n",
    "    y=\"value:Q\",\n",
    "    color=alt.condition(\n",
    "        alt.datum.year == 2005,\n",
    "        alt.value(\"red\"),  # The positive color\n",
    "        alt.value(\"blue\")  # The negative color\n",
    "    )\n",
    ")"
   ]
  },
  {
   "cell_type": "code",
   "execution_count": null,
   "metadata": {},
   "outputs": [],
   "source": [
    "g3 = alt.Chart(tbl_melt).mark_area().encode(\n",
    "    x='year:Q',\n",
    "    y='sum(value):Q',\n",
    "    color='Region:N',\n",
    "    row = alt.Row('Region:N')\n",
    ").properties(height=50, width=800)\n",
    "\n",
    "g3"
   ]
  },
  {
   "cell_type": "code",
   "execution_count": null,
   "metadata": {},
   "outputs": [],
   "source": [
    "alt.hconcat(g1, g2)"
   ]
  },
  {
   "cell_type": "code",
   "execution_count": null,
   "metadata": {},
   "outputs": [],
   "source": [
    "alt.vconcat(alt.hconcat(g1, g2), g3)"
   ]
  },
  {
   "cell_type": "code",
   "execution_count": null,
   "metadata": {},
   "outputs": [],
   "source": []
  }
 ],
 "metadata": {
  "kernelspec": {
   "display_name": "Python 3 (ipykernel)",
   "language": "python",
   "name": "python3"
  },
  "language_info": {
   "codemirror_mode": {
    "name": "ipython",
    "version": 3
   },
   "file_extension": ".py",
   "mimetype": "text/x-python",
   "name": "python",
   "nbconvert_exporter": "python",
   "pygments_lexer": "ipython3",
   "version": "3.9.7"
  }
 },
 "nbformat": 4,
 "nbformat_minor": 4
}
