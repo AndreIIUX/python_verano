{
 "cells": [
  {
   "cell_type": "markdown",
   "metadata": {
    "colab_type": "text",
    "id": "view-in-github"
   },
   "source": [
    "<a href=\"https://colab.research.google.com/github/ccsuehara/python_verano/blob/main/Clase%208/Convirtiendo_el_trabajo_a_html.ipynb\" target=\"_parent\"><img src=\"https://colab.research.google.com/assets/colab-badge.svg\" alt=\"Open In Colab\"/></a>"
   ]
  },
  {
   "cell_type": "code",
   "execution_count": 1,
   "metadata": {
    "colab": {
     "base_uri": "https://localhost:8080/"
    },
    "id": "bkkhv749_qJa",
    "outputId": "a15adb1f-6b19-42c6-e61f-0a3c223be904"
   },
   "outputs": [
    {
     "name": "stdout",
     "output_type": "stream",
     "text": [
      "[NbConvertApp] Converting notebook /content/Altair_2.ipynb to html\n",
      "[NbConvertApp] Writing 302832 bytes to /content/Altair_2.html\n"
     ]
    },
    {
     "data": {
      "text/plain": []
     },
     "execution_count": 1,
     "metadata": {},
     "output_type": "execute_result"
    }
   ],
   "source": [
    "# referencia de stack overflow: https://stackoverflow.com/questions/53460051/convert-ipynb-notebook-to-html-in-google-colab\n",
    "%%shell\n",
    "jupyter nbconvert --to html /content/Altair_2.ipynb"
   ]
  },
  {
   "cell_type": "code",
   "execution_count": null,
   "metadata": {
    "id": "ayUDrRqb_u2a"
   },
   "outputs": [],
   "source": [
    "index.html"
   ]
  }
 ],
 "metadata": {
  "colab": {
   "authorship_tag": "ABX9TyM+RW3IWMK3y+a4OV4FhMvA",
   "include_colab_link": true,
   "name": "Convirtiendo el trabajo a html.ipynb",
   "provenance": []
  },
  "kernelspec": {
   "display_name": "Python 3 (ipykernel)",
   "language": "python",
   "name": "python3"
  },
  "language_info": {
   "codemirror_mode": {
    "name": "ipython",
    "version": 3
   },
   "file_extension": ".py",
   "mimetype": "text/x-python",
   "name": "python",
   "nbconvert_exporter": "python",
   "pygments_lexer": "ipython3",
   "version": "3.9.7"
  }
 },
 "nbformat": 4,
 "nbformat_minor": 1
}
